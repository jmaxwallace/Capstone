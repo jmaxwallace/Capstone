{
 "cells": [
  {
   "cell_type": "code",
   "execution_count": 13,
   "id": "e5dcfbe7-8847-453e-9f57-8c306c4ecd8f",
   "metadata": {},
   "outputs": [],
   "source": [
    "import axelrod as axl"
   ]
  },
  {
   "cell_type": "code",
   "execution_count": 15,
   "id": "823465a7-0be5-489f-b4cf-c6438a333353",
   "metadata": {},
   "outputs": [
    {
     "name": "stderr",
     "output_type": "stream",
     "text": [
      "Playing matches: 100%|██████████| 120/120 [00:01<00:00, 92.36it/s]\n",
      "Analysing: 100%|██████████| 25/25 [00:00<00:00, 26.25it/s]\n"
     ]
    }
   ],
   "source": [
    "players = [s() for s in axl.axelrod_first_strategies]\n",
    "tournament = axl.Tournament(players, turns=200, repetitions=1, seed=42)\n",
    "results = tournament.play(filename=\"basic_tournament3.csv\")"
   ]
  },
  {
   "cell_type": "code",
   "execution_count": 17,
   "id": "9b9ce235-48f8-4110-9a39-f133d1272604",
   "metadata": {},
   "outputs": [],
   "source": [
    "results.write_summary('summary.csv')"
   ]
  },
  {
   "cell_type": "code",
   "execution_count": null,
   "id": "e3c9ce95-fc94-4691-a295-73b0abaca5d7",
   "metadata": {},
   "outputs": [],
   "source": []
  }
 ],
 "metadata": {
  "kernelspec": {
   "display_name": "Python 3 (ipykernel)",
   "language": "python",
   "name": "python3"
  },
  "language_info": {
   "codemirror_mode": {
    "name": "ipython",
    "version": 3
   },
   "file_extension": ".py",
   "mimetype": "text/x-python",
   "name": "python",
   "nbconvert_exporter": "python",
   "pygments_lexer": "ipython3",
   "version": "3.12.3"
  }
 },
 "nbformat": 4,
 "nbformat_minor": 5
}
