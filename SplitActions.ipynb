{
 "cells": [
  {
   "cell_type": "code",
   "execution_count": 2,
   "id": "a60d0760-7a62-4d96-9efa-d83c358c797e",
   "metadata": {},
   "outputs": [],
   "source": [
    "import pandas as pd"
   ]
  },
  {
   "cell_type": "code",
   "execution_count": 106,
   "id": "3d02aec8-009a-4f0a-b17d-7a3f093f961f",
   "metadata": {},
   "outputs": [],
   "source": [
    "t1 = pd.read_csv(\"SampleTournament/SampleTournament.csv\")"
   ]
  },
  {
   "cell_type": "code",
   "execution_count": 108,
   "id": "6941f024-3d07-451f-a3e8-4a3d49f0207d",
   "metadata": {},
   "outputs": [
    {
     "name": "stdout",
     "output_type": "stream",
     "text": [
      "   Interaction index  Player index  Opponent index  Repetition  \\\n",
      "0                  0             0               0           0   \n",
      "1                  0             0               0           0   \n",
      "2                  1             0               1           0   \n",
      "3                  1             1               0           0   \n",
      "4                  2             0               2           0   \n",
      "\n",
      "                              Player name  \\\n",
      "0                             Tit For Tat   \n",
      "1                             Tit For Tat   \n",
      "2                             Tit For Tat   \n",
      "3  First by Tideman and Chieruzzi: (D, D)   \n",
      "4                             Tit For Tat   \n",
      "\n",
      "                            Opponent name  \\\n",
      "0                             Tit For Tat   \n",
      "1                             Tit For Tat   \n",
      "2  First by Tideman and Chieruzzi: (D, D)   \n",
      "3                             Tit For Tat   \n",
      "4                       First by Nydegger   \n",
      "\n",
      "                                             Actions  Score  Score difference  \\\n",
      "0  CCCCCCCCCCCCCCCCCCCCCCCCCCCCCCCCCCCCCCCCCCCCCC...    600                 0   \n",
      "1  CCCCCCCCCCCCCCCCCCCCCCCCCCCCCCCCCCCCCCCCCCCCCC...    600                 0   \n",
      "2  CCCCCCCCCCCCCCCCCCCCCCCCCCCCCCCCCCCCCCCCCCCCCC...    595                -5   \n",
      "3  CCCCCCCCCCCCCCCCCCCCCCCCCCCCCCCCCCCCCCCCCCCCCC...    600                 5   \n",
      "4  CCCCCCCCCCCCCCCCCCCCCCCCCCCCCCCCCCCCCCCCCCCCCC...    600                 0   \n",
      "\n",
      "   Turns  ...  DD count  CC to C count  CC to D count  CD to C count  \\\n",
      "0    200  ...         0            199              0              0   \n",
      "1    200  ...         0            199              0              0   \n",
      "2    200  ...         1            198              0              0   \n",
      "3    200  ...         1            197              1              0   \n",
      "4    200  ...         0            199              0              0   \n",
      "\n",
      "   CD to D count  DC to C count  DC to D count  DD to C count  DD to D count  \\\n",
      "0              0              0              0              0              0   \n",
      "1              0              0              0              0              0   \n",
      "2              1              0              0              0              0   \n",
      "3              0              0              1              0              0   \n",
      "4              0              0              0              0              0   \n",
      "\n",
      "   Good partner  \n",
      "0             1  \n",
      "1             1  \n",
      "2             1  \n",
      "3             0  \n",
      "4             1  \n",
      "\n",
      "[5 rows x 28 columns]\n"
     ]
    }
   ],
   "source": [
    "print(t1.head())"
   ]
  },
  {
   "cell_type": "code",
   "execution_count": 110,
   "id": "30b84725-66af-4741-a265-56acc96b238b",
   "metadata": {},
   "outputs": [
    {
     "name": "stdout",
     "output_type": "stream",
     "text": [
      "Interaction index              int64\n",
      "Player index                   int64\n",
      "Opponent index                 int64\n",
      "Repetition                     int64\n",
      "Player name                   object\n",
      "Opponent name                 object\n",
      "Actions                       object\n",
      "Score                          int64\n",
      "Score difference               int64\n",
      "Turns                          int64\n",
      "Score per turn               float64\n",
      "Score difference per turn    float64\n",
      "Win                            int64\n",
      "Initial cooperation             bool\n",
      "Cooperation count              int64\n",
      "CC count                       int64\n",
      "CD count                       int64\n",
      "DC count                       int64\n",
      "DD count                       int64\n",
      "CC to C count                  int64\n",
      "CC to D count                  int64\n",
      "CD to C count                  int64\n",
      "CD to D count                  int64\n",
      "DC to C count                  int64\n",
      "DC to D count                  int64\n",
      "DD to C count                  int64\n",
      "DD to D count                  int64\n",
      "Good partner                   int64\n",
      "dtype: object\n"
     ]
    }
   ],
   "source": [
    "print(t1.dtypes)"
   ]
  },
  {
   "cell_type": "code",
   "execution_count": 112,
   "id": "3f049dae-f498-485c-8ec8-2f150e7c81ab",
   "metadata": {},
   "outputs": [],
   "source": [
    "t1_actions = t1[\"Actions\"].apply(lambda x: pd.Series(list(x)))"
   ]
  },
  {
   "cell_type": "code",
   "execution_count": 116,
   "id": "61511b33-8210-4f31-8827-c3dc7ac3ee20",
   "metadata": {},
   "outputs": [],
   "source": [
    "t1_actions = t1_actions.replace({\"C\": 1, \"D\": 0}).astype(int)"
   ]
  },
  {
   "cell_type": "code",
   "execution_count": 118,
   "id": "e81cf8da-a006-4737-b7fa-68cb8dc2deeb",
   "metadata": {},
   "outputs": [
    {
     "data": {
      "text/plain": [
       "0      int32\n",
       "1      int32\n",
       "2      int32\n",
       "3      int32\n",
       "4      int32\n",
       "       ...  \n",
       "195    int32\n",
       "196    int32\n",
       "197    int32\n",
       "198    int32\n",
       "199    int32\n",
       "Length: 200, dtype: object"
      ]
     },
     "execution_count": 118,
     "metadata": {},
     "output_type": "execute_result"
    }
   ],
   "source": [
    "t1_actions.dtypes"
   ]
  },
  {
   "cell_type": "code",
   "execution_count": 120,
   "id": "89f08dad-d240-40c6-8907-44ca94aec6f5",
   "metadata": {},
   "outputs": [],
   "source": [
    "t1 = pd.concat([t1,t1_actions], axis=1)"
   ]
  },
  {
   "cell_type": "code",
   "execution_count": 122,
   "id": "90411c74-6543-4b35-895e-9b7b6559f916",
   "metadata": {},
   "outputs": [
    {
     "name": "stdout",
     "output_type": "stream",
     "text": [
      "   Interaction index  Player index  Opponent index  Repetition  \\\n",
      "0                  0             0               0           0   \n",
      "1                  0             0               0           0   \n",
      "2                  1             0               1           0   \n",
      "3                  1             1               0           0   \n",
      "4                  2             0               2           0   \n",
      "\n",
      "                              Player name  \\\n",
      "0                             Tit For Tat   \n",
      "1                             Tit For Tat   \n",
      "2                             Tit For Tat   \n",
      "3  First by Tideman and Chieruzzi: (D, D)   \n",
      "4                             Tit For Tat   \n",
      "\n",
      "                            Opponent name  \\\n",
      "0                             Tit For Tat   \n",
      "1                             Tit For Tat   \n",
      "2  First by Tideman and Chieruzzi: (D, D)   \n",
      "3                             Tit For Tat   \n",
      "4                       First by Nydegger   \n",
      "\n",
      "                                             Actions  Score  Score difference  \\\n",
      "0  CCCCCCCCCCCCCCCCCCCCCCCCCCCCCCCCCCCCCCCCCCCCCC...    600                 0   \n",
      "1  CCCCCCCCCCCCCCCCCCCCCCCCCCCCCCCCCCCCCCCCCCCCCC...    600                 0   \n",
      "2  CCCCCCCCCCCCCCCCCCCCCCCCCCCCCCCCCCCCCCCCCCCCCC...    595                -5   \n",
      "3  CCCCCCCCCCCCCCCCCCCCCCCCCCCCCCCCCCCCCCCCCCCCCC...    600                 5   \n",
      "4  CCCCCCCCCCCCCCCCCCCCCCCCCCCCCCCCCCCCCCCCCCCCCC...    600                 0   \n",
      "\n",
      "   Turns  ...  190  191  192  193  194  195  196  197  198  199  \n",
      "0    200  ...    1    1    1    1    1    1    1    1    1    1  \n",
      "1    200  ...    1    1    1    1    1    1    1    1    1    1  \n",
      "2    200  ...    1    1    1    1    1    1    1    1    1    0  \n",
      "3    200  ...    1    1    1    1    1    1    1    1    0    0  \n",
      "4    200  ...    1    1    1    1    1    1    1    1    1    1  \n",
      "\n",
      "[5 rows x 228 columns]\n"
     ]
    }
   ],
   "source": [
    "print(t1.head())"
   ]
  },
  {
   "cell_type": "code",
   "execution_count": 124,
   "id": "c4a4fa69-845f-4bfc-9d52-f435fab9ff1b",
   "metadata": {},
   "outputs": [],
   "source": [
    "t1.to_csv(\"SampleTournament/SplitActions.csv\")"
   ]
  },
  {
   "cell_type": "code",
   "execution_count": null,
   "id": "ec32548d-4901-47f1-8028-35b7bbfd6517",
   "metadata": {},
   "outputs": [],
   "source": []
  },
  {
   "cell_type": "code",
   "execution_count": null,
   "id": "4d67f459-c374-4d6b-8a91-d41b7af07325",
   "metadata": {},
   "outputs": [],
   "source": []
  },
  {
   "cell_type": "code",
   "execution_count": null,
   "id": "18dccb78-5760-42fe-b949-91e3d888a6d5",
   "metadata": {},
   "outputs": [],
   "source": []
  }
 ],
 "metadata": {
  "kernelspec": {
   "display_name": "Python 3 (ipykernel)",
   "language": "python",
   "name": "python3"
  },
  "language_info": {
   "codemirror_mode": {
    "name": "ipython",
    "version": 3
   },
   "file_extension": ".py",
   "mimetype": "text/x-python",
   "name": "python",
   "nbconvert_exporter": "python",
   "pygments_lexer": "ipython3",
   "version": "3.12.3"
  }
 },
 "nbformat": 4,
 "nbformat_minor": 5
}
