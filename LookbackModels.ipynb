{
 "cells": [
  {
   "cell_type": "code",
   "execution_count": 2,
   "id": "13b63db8-959c-4e41-8f72-d7fe8e41bc02",
   "metadata": {},
   "outputs": [],
   "source": [
    "import pandas as pd\n",
    "import numpy as np\n",
    "from sklearn.model_selection import train_test_split\n",
    "from sklearn.linear_model import LogisticRegression, LinearRegression\n",
    "from sklearn.metrics import accuracy_score"
   ]
  },
  {
   "cell_type": "code",
   "execution_count": 6,
   "id": "9ef2f56d-92a3-4a8e-bb95-7f43cdfc32ab",
   "metadata": {},
   "outputs": [
    {
     "data": {
      "text/plain": [
       "Index(['Interaction index', 'Player index', 'Opponent index', 'Player name',\n",
       "       'Opponent name', 'Score', 'Score per turn', 'Initial cooperation', '0',\n",
       "       '1',\n",
       "       ...\n",
       "       '190', '191', '192', '193', '194', '195', '196', '197', '198', '199'],\n",
       "      dtype='object', length=208)"
      ]
     },
     "metadata": {},
     "output_type": "display_data"
    }
   ],
   "source": [
    "url = \"https://raw.githubusercontent.com/jmaxwallace/Capstone/main/model_base.csv\"\n",
    "df = pd.read_csv(url)\n",
    "\n",
    "display(df.columns)"
   ]
  },
  {
   "cell_type": "code",
   "execution_count": 16,
   "id": "de419939-3881-42e7-a678-13c62c9cfdc8",
   "metadata": {},
   "outputs": [
    {
     "data": {
      "text/html": [
       "<div>\n",
       "<style scoped>\n",
       "    .dataframe tbody tr th:only-of-type {\n",
       "        vertical-align: middle;\n",
       "    }\n",
       "\n",
       "    .dataframe tbody tr th {\n",
       "        vertical-align: top;\n",
       "    }\n",
       "\n",
       "    .dataframe thead th {\n",
       "        text-align: right;\n",
       "    }\n",
       "</style>\n",
       "<table border=\"1\" class=\"dataframe\">\n",
       "  <thead>\n",
       "    <tr style=\"text-align: right;\">\n",
       "      <th></th>\n",
       "      <th>0</th>\n",
       "      <th>1</th>\n",
       "      <th>2</th>\n",
       "      <th>3</th>\n",
       "      <th>4</th>\n",
       "      <th>5</th>\n",
       "      <th>6</th>\n",
       "      <th>7</th>\n",
       "      <th>8</th>\n",
       "      <th>9</th>\n",
       "      <th>...</th>\n",
       "      <th>190</th>\n",
       "      <th>191</th>\n",
       "      <th>192</th>\n",
       "      <th>193</th>\n",
       "      <th>194</th>\n",
       "      <th>195</th>\n",
       "      <th>196</th>\n",
       "      <th>197</th>\n",
       "      <th>198</th>\n",
       "      <th>199</th>\n",
       "    </tr>\n",
       "  </thead>\n",
       "  <tbody>\n",
       "    <tr>\n",
       "      <th>0</th>\n",
       "      <td>1</td>\n",
       "      <td>1</td>\n",
       "      <td>1</td>\n",
       "      <td>1</td>\n",
       "      <td>1</td>\n",
       "      <td>1</td>\n",
       "      <td>1</td>\n",
       "      <td>1</td>\n",
       "      <td>1</td>\n",
       "      <td>1</td>\n",
       "      <td>...</td>\n",
       "      <td>1</td>\n",
       "      <td>1</td>\n",
       "      <td>1</td>\n",
       "      <td>1</td>\n",
       "      <td>1</td>\n",
       "      <td>1</td>\n",
       "      <td>1</td>\n",
       "      <td>1</td>\n",
       "      <td>1</td>\n",
       "      <td>1</td>\n",
       "    </tr>\n",
       "    <tr>\n",
       "      <th>1</th>\n",
       "      <td>1</td>\n",
       "      <td>1</td>\n",
       "      <td>1</td>\n",
       "      <td>1</td>\n",
       "      <td>1</td>\n",
       "      <td>1</td>\n",
       "      <td>1</td>\n",
       "      <td>1</td>\n",
       "      <td>1</td>\n",
       "      <td>1</td>\n",
       "      <td>...</td>\n",
       "      <td>1</td>\n",
       "      <td>1</td>\n",
       "      <td>1</td>\n",
       "      <td>1</td>\n",
       "      <td>1</td>\n",
       "      <td>1</td>\n",
       "      <td>1</td>\n",
       "      <td>1</td>\n",
       "      <td>1</td>\n",
       "      <td>1</td>\n",
       "    </tr>\n",
       "    <tr>\n",
       "      <th>2</th>\n",
       "      <td>1</td>\n",
       "      <td>1</td>\n",
       "      <td>1</td>\n",
       "      <td>1</td>\n",
       "      <td>1</td>\n",
       "      <td>1</td>\n",
       "      <td>1</td>\n",
       "      <td>1</td>\n",
       "      <td>1</td>\n",
       "      <td>1</td>\n",
       "      <td>...</td>\n",
       "      <td>1</td>\n",
       "      <td>1</td>\n",
       "      <td>1</td>\n",
       "      <td>1</td>\n",
       "      <td>1</td>\n",
       "      <td>1</td>\n",
       "      <td>1</td>\n",
       "      <td>1</td>\n",
       "      <td>1</td>\n",
       "      <td>0</td>\n",
       "    </tr>\n",
       "    <tr>\n",
       "      <th>3</th>\n",
       "      <td>1</td>\n",
       "      <td>1</td>\n",
       "      <td>1</td>\n",
       "      <td>1</td>\n",
       "      <td>1</td>\n",
       "      <td>1</td>\n",
       "      <td>1</td>\n",
       "      <td>1</td>\n",
       "      <td>1</td>\n",
       "      <td>1</td>\n",
       "      <td>...</td>\n",
       "      <td>1</td>\n",
       "      <td>1</td>\n",
       "      <td>1</td>\n",
       "      <td>1</td>\n",
       "      <td>1</td>\n",
       "      <td>1</td>\n",
       "      <td>1</td>\n",
       "      <td>1</td>\n",
       "      <td>0</td>\n",
       "      <td>0</td>\n",
       "    </tr>\n",
       "    <tr>\n",
       "      <th>4</th>\n",
       "      <td>1</td>\n",
       "      <td>1</td>\n",
       "      <td>1</td>\n",
       "      <td>1</td>\n",
       "      <td>1</td>\n",
       "      <td>1</td>\n",
       "      <td>1</td>\n",
       "      <td>1</td>\n",
       "      <td>1</td>\n",
       "      <td>1</td>\n",
       "      <td>...</td>\n",
       "      <td>1</td>\n",
       "      <td>1</td>\n",
       "      <td>1</td>\n",
       "      <td>1</td>\n",
       "      <td>1</td>\n",
       "      <td>1</td>\n",
       "      <td>1</td>\n",
       "      <td>1</td>\n",
       "      <td>1</td>\n",
       "      <td>1</td>\n",
       "    </tr>\n",
       "    <tr>\n",
       "      <th>...</th>\n",
       "      <td>...</td>\n",
       "      <td>...</td>\n",
       "      <td>...</td>\n",
       "      <td>...</td>\n",
       "      <td>...</td>\n",
       "      <td>...</td>\n",
       "      <td>...</td>\n",
       "      <td>...</td>\n",
       "      <td>...</td>\n",
       "      <td>...</td>\n",
       "      <td>...</td>\n",
       "      <td>...</td>\n",
       "      <td>...</td>\n",
       "      <td>...</td>\n",
       "      <td>...</td>\n",
       "      <td>...</td>\n",
       "      <td>...</td>\n",
       "      <td>...</td>\n",
       "      <td>...</td>\n",
       "      <td>...</td>\n",
       "      <td>...</td>\n",
       "    </tr>\n",
       "    <tr>\n",
       "      <th>235</th>\n",
       "      <td>0</td>\n",
       "      <td>1</td>\n",
       "      <td>1</td>\n",
       "      <td>0</td>\n",
       "      <td>1</td>\n",
       "      <td>0</td>\n",
       "      <td>1</td>\n",
       "      <td>0</td>\n",
       "      <td>1</td>\n",
       "      <td>0</td>\n",
       "      <td>...</td>\n",
       "      <td>1</td>\n",
       "      <td>1</td>\n",
       "      <td>0</td>\n",
       "      <td>0</td>\n",
       "      <td>1</td>\n",
       "      <td>0</td>\n",
       "      <td>1</td>\n",
       "      <td>0</td>\n",
       "      <td>1</td>\n",
       "      <td>1</td>\n",
       "    </tr>\n",
       "    <tr>\n",
       "      <th>236</th>\n",
       "      <td>1</td>\n",
       "      <td>0</td>\n",
       "      <td>0</td>\n",
       "      <td>1</td>\n",
       "      <td>1</td>\n",
       "      <td>0</td>\n",
       "      <td>0</td>\n",
       "      <td>0</td>\n",
       "      <td>0</td>\n",
       "      <td>1</td>\n",
       "      <td>...</td>\n",
       "      <td>1</td>\n",
       "      <td>0</td>\n",
       "      <td>1</td>\n",
       "      <td>1</td>\n",
       "      <td>0</td>\n",
       "      <td>0</td>\n",
       "      <td>1</td>\n",
       "      <td>0</td>\n",
       "      <td>1</td>\n",
       "      <td>0</td>\n",
       "    </tr>\n",
       "    <tr>\n",
       "      <th>237</th>\n",
       "      <td>0</td>\n",
       "      <td>0</td>\n",
       "      <td>1</td>\n",
       "      <td>0</td>\n",
       "      <td>1</td>\n",
       "      <td>1</td>\n",
       "      <td>0</td>\n",
       "      <td>0</td>\n",
       "      <td>1</td>\n",
       "      <td>0</td>\n",
       "      <td>...</td>\n",
       "      <td>0</td>\n",
       "      <td>1</td>\n",
       "      <td>1</td>\n",
       "      <td>1</td>\n",
       "      <td>0</td>\n",
       "      <td>0</td>\n",
       "      <td>0</td>\n",
       "      <td>1</td>\n",
       "      <td>1</td>\n",
       "      <td>1</td>\n",
       "    </tr>\n",
       "    <tr>\n",
       "      <th>238</th>\n",
       "      <td>1</td>\n",
       "      <td>1</td>\n",
       "      <td>1</td>\n",
       "      <td>0</td>\n",
       "      <td>1</td>\n",
       "      <td>1</td>\n",
       "      <td>0</td>\n",
       "      <td>0</td>\n",
       "      <td>1</td>\n",
       "      <td>0</td>\n",
       "      <td>...</td>\n",
       "      <td>0</td>\n",
       "      <td>0</td>\n",
       "      <td>0</td>\n",
       "      <td>0</td>\n",
       "      <td>0</td>\n",
       "      <td>0</td>\n",
       "      <td>0</td>\n",
       "      <td>1</td>\n",
       "      <td>1</td>\n",
       "      <td>1</td>\n",
       "    </tr>\n",
       "    <tr>\n",
       "      <th>239</th>\n",
       "      <td>0</td>\n",
       "      <td>0</td>\n",
       "      <td>0</td>\n",
       "      <td>1</td>\n",
       "      <td>1</td>\n",
       "      <td>0</td>\n",
       "      <td>0</td>\n",
       "      <td>1</td>\n",
       "      <td>0</td>\n",
       "      <td>1</td>\n",
       "      <td>...</td>\n",
       "      <td>0</td>\n",
       "      <td>0</td>\n",
       "      <td>1</td>\n",
       "      <td>1</td>\n",
       "      <td>1</td>\n",
       "      <td>0</td>\n",
       "      <td>1</td>\n",
       "      <td>0</td>\n",
       "      <td>1</td>\n",
       "      <td>0</td>\n",
       "    </tr>\n",
       "  </tbody>\n",
       "</table>\n",
       "<p>240 rows × 200 columns</p>\n",
       "</div>"
      ],
      "text/plain": [
       "     0  1  2  3  4  5  6  7  8  9  ...  190  191  192  193  194  195  196  \\\n",
       "0    1  1  1  1  1  1  1  1  1  1  ...    1    1    1    1    1    1    1   \n",
       "1    1  1  1  1  1  1  1  1  1  1  ...    1    1    1    1    1    1    1   \n",
       "2    1  1  1  1  1  1  1  1  1  1  ...    1    1    1    1    1    1    1   \n",
       "3    1  1  1  1  1  1  1  1  1  1  ...    1    1    1    1    1    1    1   \n",
       "4    1  1  1  1  1  1  1  1  1  1  ...    1    1    1    1    1    1    1   \n",
       "..  .. .. .. .. .. .. .. .. .. ..  ...  ...  ...  ...  ...  ...  ...  ...   \n",
       "235  0  1  1  0  1  0  1  0  1  0  ...    1    1    0    0    1    0    1   \n",
       "236  1  0  0  1  1  0  0  0  0  1  ...    1    0    1    1    0    0    1   \n",
       "237  0  0  1  0  1  1  0  0  1  0  ...    0    1    1    1    0    0    0   \n",
       "238  1  1  1  0  1  1  0  0  1  0  ...    0    0    0    0    0    0    0   \n",
       "239  0  0  0  1  1  0  0  1  0  1  ...    0    0    1    1    1    0    1   \n",
       "\n",
       "     197  198  199  \n",
       "0      1    1    1  \n",
       "1      1    1    1  \n",
       "2      1    1    0  \n",
       "3      1    0    0  \n",
       "4      1    1    1  \n",
       "..   ...  ...  ...  \n",
       "235    0    1    1  \n",
       "236    0    1    0  \n",
       "237    1    1    1  \n",
       "238    1    1    1  \n",
       "239    0    1    0  \n",
       "\n",
       "[240 rows x 200 columns]"
      ]
     },
     "metadata": {},
     "output_type": "display_data"
    }
   ],
   "source": [
    "interaction = df['Interaction index']\n",
    "final_scores = df['Score']\n",
    "turns = df.drop(columns = ['Interaction index', 'Player index', 'Opponent index', 'Player name',\n",
    "       'Opponent name', 'Score', 'Score per turn', 'Initial cooperation'])\n",
    "\n",
    "display(turns)"
   ]
  },
  {
   "cell_type": "code",
   "execution_count": 146,
   "id": "e4ad19d6-1a50-4643-9a74-03d6cfcc50e0",
   "metadata": {},
   "outputs": [
    {
     "data": {
      "text/plain": [
       "(22800, 20)"
      ]
     },
     "metadata": {},
     "output_type": "display_data"
    }
   ],
   "source": [
    "N = 10\n",
    "\n",
    "X = []\n",
    "y = []\n",
    "\n",
    "for game_idx in range(0, len(turns), 2):\n",
    "    strat_A_moves = turns.iloc[game_idx].values\n",
    "    strat_B_moves = turns.iloc[game_idx + 1].values\n",
    "\n",
    "    # Can change to game_idx + 1 to read for Strategy B's scores\n",
    "    score = final_scores[game_idx]\n",
    "\n",
    "    for turn in range(N, 200):\n",
    "        A_recent = strat_A_moves[turn-N:turn]\n",
    "        B_recent = strat_B_moves[turn-N:turn]\n",
    "        X.append(np.hstack([A_recent, B_recent]))\n",
    "        y.append(score)\n",
    "\n",
    "# Convert to arrays\n",
    "X = np.array(X)\n",
    "y = np.array(y)\n",
    "\n",
    "display(X.shape)"
   ]
  },
  {
   "cell_type": "code",
   "execution_count": 108,
   "id": "951a0655-0760-44c6-86d5-760e887fe008",
   "metadata": {},
   "outputs": [
    {
     "data": {
      "text/plain": [
       "(22800,)"
      ]
     },
     "metadata": {},
     "output_type": "display_data"
    }
   ],
   "source": [
    "display(y.shape)"
   ]
  },
  {
   "cell_type": "code",
   "execution_count": 111,
   "id": "cb7cb0aa-402d-4411-8a45-5f8e96446dba",
   "metadata": {},
   "outputs": [],
   "source": [
    "from sklearn.preprocessing import StandardScaler\n",
    "\n",
    "# Normalize moves\n",
    "scaler = StandardScaler()\n",
    "X = scaler.fit_transform(X)"
   ]
  },
  {
   "cell_type": "code",
   "execution_count": 113,
   "id": "41874515-acdf-4c7b-b4cc-b7e49919e240",
   "metadata": {},
   "outputs": [
    {
     "name": "stdout",
     "output_type": "stream",
     "text": [
      "Linear Regression Performance:\n",
      "  MSE: 5896.072\n",
      "  MAE: 52.849\n",
      "  R^2: 0.753\n"
     ]
    }
   ],
   "source": [
    "from sklearn.linear_model import LinearRegression\n",
    "from sklearn.model_selection import train_test_split\n",
    "from sklearn.metrics import mean_squared_error, mean_absolute_error, r2_score\n",
    "\n",
    "# Train-test split\n",
    "X_train, X_test, y_train, y_test = train_test_split(X, y, test_size=0.2, random_state=42)\n",
    "\n",
    "# Fit linear regression model\n",
    "lin_reg = LinearRegression()\n",
    "lin_reg.fit(X_train, y_train)\n",
    "\n",
    "# Predictions\n",
    "y_pred = lin_reg.predict(X_test)\n",
    "\n",
    "# Performance metrics\n",
    "mse = mean_squared_error(y_test, y_pred)\n",
    "mae = mean_absolute_error(y_test, y_pred)\n",
    "r2 = r2_score(y_test, y_pred)\n",
    "\n",
    "print(f\"Linear Regression Performance:\")\n",
    "print(f\"  MSE: {mse:.3f}\")\n",
    "print(f\"  MAE: {mae:.3f}\")\n",
    "print(f\"  R^2: {r2:.3f}\")"
   ]
  },
  {
   "cell_type": "code",
   "execution_count": 180,
   "id": "c53820fc-4d6a-40b1-b7c8-ae0e643fad70",
   "metadata": {},
   "outputs": [],
   "source": [
    "def create_dataset(turns, final_scores, N):\n",
    "    \"\"\"\n",
    "    Generates the X (features) and y (targets) variables for a dual-output model.\n",
    "    \n",
    "    Parameters:\n",
    "    - turns: DataFrame where each row is one half of a game (strategy A's moves in row 0, strategy B's in row 1)\n",
    "    - final_scores: List or array of final scores for each game\n",
    "    - N: Lookback window size (i.e., number of previous turns to consider)\n",
    "\n",
    "    Returns:\n",
    "    - X: Features (input data) of shape (num_samples, 2 * N) \n",
    "    - y: Targets (output data) of shape (num_samples, 2) (final scores for both strategies)\n",
    "    \"\"\"\n",
    "    \n",
    "    X = []\n",
    "    y = []\n",
    "\n",
    "    # Loop over each game, assuming games are grouped in pairs of rows\n",
    "    for game_idx in range(0, len(turns), 2):\n",
    "        # Get the moves for Strategy A and Strategy B\n",
    "        strat_A_moves = turns.iloc[game_idx].values\n",
    "        strat_B_moves = turns.iloc[game_idx + 1].values\n",
    "\n",
    "        # Get the final scores for Strategy A and Strategy B\n",
    "        score_A = final_scores[game_idx]\n",
    "        score_B = final_scores[game_idx + 1]\n",
    "\n",
    "        # Generate samples for each turn from N to 200 (based on lookback)\n",
    "        for turn in range(N, 200):\n",
    "            # Get the most recent N moves for both strategies\n",
    "            A_recent = strat_A_moves[turn-N:turn]\n",
    "            B_recent = strat_B_moves[turn-N:turn]\n",
    "\n",
    "            # Combine the recent moves into a single input sample\n",
    "            X.append(np.hstack([A_recent, B_recent]))\n",
    "            # Append the corresponding final scores to y\n",
    "            y.append([score_A, score_B])\n",
    "\n",
    "    # Convert to numpy arrays\n",
    "    X = np.array(X)\n",
    "    y = np.array(y)\n",
    "    # Normalize moves\n",
    "    scaler = StandardScaler()\n",
    "    X = scaler.fit_transform(X)\n",
    "\n",
    "    return X, y\n"
   ]
  },
  {
   "cell_type": "code",
   "execution_count": 272,
   "id": "8f6a3476-9eea-4a6b-96d2-57d447ded5d6",
   "metadata": {},
   "outputs": [
    {
     "name": "stdout",
     "output_type": "stream",
     "text": [
      "(22800, 20)\n",
      "(22800, 2)\n"
     ]
    }
   ],
   "source": [
    "X, y = create_dataset(turns, final_scores, 10)\n",
    "\n",
    "print(X.shape)\n",
    "print(y.shape)"
   ]
  },
  {
   "cell_type": "code",
   "execution_count": 273,
   "id": "c5d8e18c-f571-403b-823e-832efd0ed19b",
   "metadata": {},
   "outputs": [
    {
     "name": "stdout",
     "output_type": "stream",
     "text": [
      "Strategy A - MSE: 5896.072, MAE: 52.849, R²: 0.753\n",
      "Strategy B - MSE: 5786.727, MAE: 44.546, R²: 0.844\n"
     ]
    }
   ],
   "source": [
    "from sklearn.linear_model import LinearRegression\n",
    "from sklearn.model_selection import train_test_split\n",
    "from sklearn.metrics import mean_squared_error, mean_absolute_error\n",
    "\n",
    "# Split the data\n",
    "X_train, X_test, y_train, y_test = train_test_split(X, y, test_size=0.2, random_state=42)\n",
    "\n",
    "# Create and fit the model\n",
    "lin_reg = LinearRegression()\n",
    "lin_reg.fit(X_train, y_train)\n",
    "\n",
    "# Predict on test set\n",
    "y_pred = lin_reg.predict(X_test)\n",
    "\n",
    "# Evaluate performance for each output separately\n",
    "mse_A = mean_squared_error(y_test[:, 0], y_pred[:, 0])\n",
    "mse_B = mean_squared_error(y_test[:, 1], y_pred[:, 1])\n",
    "\n",
    "mae_A = mean_absolute_error(y_test[:, 0], y_pred[:, 0])\n",
    "mae_B = mean_absolute_error(y_test[:, 1], y_pred[:, 1])\n",
    "\n",
    "r2_A = r2_score(y_test[:, 0], y_pred[:, 0])\n",
    "r2_B = r2_score(y_test[:, 1], y_pred[:, 1])\n",
    "\n",
    "print(f\"Strategy A - MSE: {mse_A:.3f}, MAE: {mae_A:.3f}, R²: {r2_A:.3f}\")\n",
    "print(f\"Strategy B - MSE: {mse_B:.3f}, MAE: {mae_B:.3f}, R²: {r2_B:.3f}\")"
   ]
  },
  {
   "cell_type": "code",
   "execution_count": 288,
   "id": "409c7c97-57e2-49bb-b4d9-3061fc53f2fa",
   "metadata": {},
   "outputs": [
    {
     "name": "stdout",
     "output_type": "stream",
     "text": [
      "(21600, 40)\n",
      "(21600, 2)\n"
     ]
    }
   ],
   "source": [
    "X, y = create_dataset(turns, final_scores, 20)\n",
    "\n",
    "print(X.shape)\n",
    "print(y.shape)"
   ]
  },
  {
   "cell_type": "code",
   "execution_count": 290,
   "id": "ae3e476d-d8ff-4f87-95d2-147c1e99b4b1",
   "metadata": {},
   "outputs": [
    {
     "name": "stdout",
     "output_type": "stream",
     "text": [
      "Strategy A - MSE: 4032.476, MAE: 41.819, R²: 0.831\n",
      "Strategy B - MSE: 3836.472, MAE: 36.563, R²: 0.896\n"
     ]
    }
   ],
   "source": [
    "# Split the data\n",
    "X_train, X_test, y_train, y_test = train_test_split(X, y, test_size=0.2, random_state=42)\n",
    "\n",
    "# Create and fit the model\n",
    "lin_reg = LinearRegression()\n",
    "lin_reg.fit(X_train, y_train)\n",
    "\n",
    "# Predict on test set\n",
    "y_pred = lin_reg.predict(X_test)\n",
    "\n",
    "# Evaluate performance for each output separately\n",
    "mse_A = mean_squared_error(y_test[:, 0], y_pred[:, 0])\n",
    "mse_B = mean_squared_error(y_test[:, 1], y_pred[:, 1])\n",
    "\n",
    "mae_A = mean_absolute_error(y_test[:, 0], y_pred[:, 0])\n",
    "mae_B = mean_absolute_error(y_test[:, 1], y_pred[:, 1])\n",
    "\n",
    "r2_A = r2_score(y_test[:, 0], y_pred[:, 0])\n",
    "r2_B = r2_score(y_test[:, 1], y_pred[:, 1])\n",
    "\n",
    "print(f\"Strategy A - MSE: {mse_A:.3f}, MAE: {mae_A:.3f}, R²: {r2_A:.3f}\")\n",
    "print(f\"Strategy B - MSE: {mse_B:.3f}, MAE: {mae_B:.3f}, R²: {r2_B:.3f}\")"
   ]
  },
  {
   "cell_type": "code",
   "execution_count": 292,
   "id": "f46bf56e-d7af-43d2-9f6d-fb28603e4afc",
   "metadata": {},
   "outputs": [
    {
     "name": "stdout",
     "output_type": "stream",
     "text": [
      "(12000, 200)\n",
      "(12000, 2)\n"
     ]
    }
   ],
   "source": [
    "X, y = create_dataset(turns, final_scores, 100)\n",
    "\n",
    "print(X.shape)\n",
    "print(y.shape)"
   ]
  },
  {
   "cell_type": "code",
   "execution_count": 294,
   "id": "1a98f19a-1daa-441f-8255-380ebd50c1e5",
   "metadata": {},
   "outputs": [
    {
     "name": "stdout",
     "output_type": "stream",
     "text": [
      "Strategy A - MSE: 975.440, MAE: 22.113, R²: 0.959\n",
      "Strategy B - MSE: 1073.848, MAE: 23.947, R²: 0.972\n"
     ]
    }
   ],
   "source": [
    "# Split the data\n",
    "X_train, X_test, y_train, y_test = train_test_split(X, y, test_size=0.2, random_state=42)\n",
    "\n",
    "# Create and fit the model\n",
    "lin_reg = LinearRegression()\n",
    "lin_reg.fit(X_train, y_train)\n",
    "\n",
    "# Predict on test set\n",
    "y_pred = lin_reg.predict(X_test)\n",
    "\n",
    "# Evaluate performance for each output separately\n",
    "mse_A = mean_squared_error(y_test[:, 0], y_pred[:, 0])\n",
    "mse_B = mean_squared_error(y_test[:, 1], y_pred[:, 1])\n",
    "\n",
    "mae_A = mean_absolute_error(y_test[:, 0], y_pred[:, 0])\n",
    "mae_B = mean_absolute_error(y_test[:, 1], y_pred[:, 1])\n",
    "\n",
    "r2_A = r2_score(y_test[:, 0], y_pred[:, 0])\n",
    "r2_B = r2_score(y_test[:, 1], y_pred[:, 1])\n",
    "\n",
    "print(f\"Strategy A - MSE: {mse_A:.3f}, MAE: {mae_A:.3f}, R²: {r2_A:.3f}\")\n",
    "print(f\"Strategy B - MSE: {mse_B:.3f}, MAE: {mae_B:.3f}, R²: {r2_B:.3f}\")"
   ]
  },
  {
   "cell_type": "code",
   "execution_count": 296,
   "id": "c55527bb-e552-44cb-82f2-af208e31c0da",
   "metadata": {},
   "outputs": [
    {
     "name": "stdout",
     "output_type": "stream",
     "text": [
      "(6000, 300)\n",
      "(6000, 2)\n"
     ]
    }
   ],
   "source": [
    "X, y = create_dataset(turns, final_scores, 150)\n",
    "\n",
    "print(X.shape)\n",
    "print(y.shape)"
   ]
  },
  {
   "cell_type": "code",
   "execution_count": 298,
   "id": "d5c85d45-7acc-4b4d-875e-dd422eb76e2c",
   "metadata": {},
   "outputs": [
    {
     "name": "stdout",
     "output_type": "stream",
     "text": [
      "Strategy A - MSE: 598.812, MAE: 18.546, R²: 0.974\n",
      "Strategy B - MSE: 703.978, MAE: 20.333, R²: 0.980\n"
     ]
    }
   ],
   "source": [
    "# Split the data\n",
    "X_train, X_test, y_train, y_test = train_test_split(X, y, test_size=0.2, random_state=42)\n",
    "\n",
    "# Create and fit the model\n",
    "lin_reg = LinearRegression()\n",
    "lin_reg.fit(X_train, y_train)\n",
    "\n",
    "# Predict on test set\n",
    "y_pred = lin_reg.predict(X_test)\n",
    "\n",
    "# Evaluate performance for each output separately\n",
    "mse_A = mean_squared_error(y_test[:, 0], y_pred[:, 0])\n",
    "mse_B = mean_squared_error(y_test[:, 1], y_pred[:, 1])\n",
    "\n",
    "mae_A = mean_absolute_error(y_test[:, 0], y_pred[:, 0])\n",
    "mae_B = mean_absolute_error(y_test[:, 1], y_pred[:, 1])\n",
    "\n",
    "r2_A = r2_score(y_test[:, 0], y_pred[:, 0])\n",
    "r2_B = r2_score(y_test[:, 1], y_pred[:, 1])\n",
    "\n",
    "print(f\"Strategy A - MSE: {mse_A:.3f}, MAE: {mae_A:.3f}, R²: {r2_A:.3f}\")\n",
    "print(f\"Strategy B - MSE: {mse_B:.3f}, MAE: {mae_B:.3f}, R²: {r2_B:.3f}\")"
   ]
  },
  {
   "cell_type": "code",
   "execution_count": 351,
   "id": "155712e0-f977-4ef3-a3cd-444937bb3ecb",
   "metadata": {},
   "outputs": [
    {
     "name": "stdout",
     "output_type": "stream",
     "text": [
      "(2400, 360)\n",
      "(2400, 2)\n"
     ]
    }
   ],
   "source": [
    "X, y = create_dataset(turns, final_scores, 180)\n",
    "\n",
    "print(X.shape)\n",
    "print(y.shape)"
   ]
  },
  {
   "cell_type": "code",
   "execution_count": 353,
   "id": "af57bbab-0769-463a-92e3-ff9d9e5cdd1b",
   "metadata": {},
   "outputs": [
    {
     "name": "stdout",
     "output_type": "stream",
     "text": [
      "Strategy A - MSE: 594.501, MAE: 17.830, R²: 0.976\n",
      "Strategy B - MSE: 624.159, MAE: 18.394, R²: 0.982\n"
     ]
    }
   ],
   "source": [
    "# Split the data\n",
    "X_train, X_test, y_train, y_test = train_test_split(X, y, test_size=0.2, random_state=42)\n",
    "\n",
    "# Create and fit the model\n",
    "lin_reg = LinearRegression()\n",
    "lin_reg.fit(X_train, y_train)\n",
    "\n",
    "# Predict on test set\n",
    "y_pred = lin_reg.predict(X_test)\n",
    "\n",
    "# Evaluate performance for each output separately\n",
    "mse_A = mean_squared_error(y_test[:, 0], y_pred[:, 0])\n",
    "mse_B = mean_squared_error(y_test[:, 1], y_pred[:, 1])\n",
    "\n",
    "mae_A = mean_absolute_error(y_test[:, 0], y_pred[:, 0])\n",
    "mae_B = mean_absolute_error(y_test[:, 1], y_pred[:, 1])\n",
    "\n",
    "r2_A = r2_score(y_test[:, 0], y_pred[:, 0])\n",
    "r2_B = r2_score(y_test[:, 1], y_pred[:, 1])\n",
    "\n",
    "print(f\"Strategy A - MSE: {mse_A:.3f}, MAE: {mae_A:.3f}, R²: {r2_A:.3f}\")\n",
    "print(f\"Strategy B - MSE: {mse_B:.3f}, MAE: {mae_B:.3f}, R²: {r2_B:.3f}\")"
   ]
  },
  {
   "cell_type": "code",
   "execution_count": null,
   "id": "7c43cfa4-a2d7-40d6-8d42-da6c6fd23d12",
   "metadata": {},
   "outputs": [],
   "source": []
  }
 ],
 "metadata": {
  "kernelspec": {
   "display_name": "Python 3 (ipykernel)",
   "language": "python",
   "name": "python3"
  },
  "language_info": {
   "codemirror_mode": {
    "name": "ipython",
    "version": 3
   },
   "file_extension": ".py",
   "mimetype": "text/x-python",
   "name": "python",
   "nbconvert_exporter": "python",
   "pygments_lexer": "ipython3",
   "version": "3.12.3"
  }
 },
 "nbformat": 4,
 "nbformat_minor": 5
}
